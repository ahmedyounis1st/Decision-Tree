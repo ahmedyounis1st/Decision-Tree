{
  "nbformat": 4,
  "nbformat_minor": 0,
  "metadata": {
    "colab": {
      "name": "decision_tree_iris.ipynb",
      "provenance": [],
      "collapsed_sections": []
    },
    "kernelspec": {
      "display_name": "Python 3",
      "name": "python3"
    },
    "accelerator": "GPU"
  },
  "cells": [
    {
      "cell_type": "code",
      "metadata": {
        "id": "rHjyhm7HvXsU"
      },
      "source": [
        "from sklearn.datasets import load_iris # import iris data set from sklearn library\n",
        "from sklearn.tree import  DecisionTreeClassifier   \n",
        "from sklearn.metrics import accuracy_score ,confusion_matrix                                                       "
      ],
      "execution_count": 11,
      "outputs": []
    },
    {
      "cell_type": "code",
      "metadata": {
        "id": "tKF8rz8Y7QPq"
      },
      "source": [
        "iris=load_iris()\n",
        "X = iris.data\n",
        "y = iris.target"
      ],
      "execution_count": 12,
      "outputs": []
    },
    {
      "cell_type": "code",
      "source": [
        "iris.feature_names"
      ],
      "metadata": {
        "colab": {
          "base_uri": "https://localhost:8080/"
        },
        "id": "mlej8tvxzt6h",
        "outputId": "b55ab259-9d4d-4b86-a365-f1b565ef613a"
      },
      "execution_count": 13,
      "outputs": [
        {
          "output_type": "execute_result",
          "data": {
            "text/plain": [
              "['sepal length (cm)',\n",
              " 'sepal width (cm)',\n",
              " 'petal length (cm)',\n",
              " 'petal width (cm)']"
            ]
          },
          "metadata": {},
          "execution_count": 13
        }
      ]
    },
    {
      "cell_type": "code",
      "source": [
        "iris.target_names"
      ],
      "metadata": {
        "colab": {
          "base_uri": "https://localhost:8080/"
        },
        "id": "gppwaaSaz_WP",
        "outputId": "a0d28f9e-f231-4a5b-9657-d8a4d181f3da"
      },
      "execution_count": 14,
      "outputs": [
        {
          "output_type": "execute_result",
          "data": {
            "text/plain": [
              "array(['setosa', 'versicolor', 'virginica'], dtype='<U10')"
            ]
          },
          "metadata": {},
          "execution_count": 14
        }
      ]
    },
    {
      "cell_type": "code",
      "metadata": {
        "id": "JsBiFGUeMioD"
      },
      "source": [
        "from sklearn.model_selection import train_test_split \n",
        "X_train, X_test, y_train, y_test= train_test_split(X, y,test_size=0.4, random_state =33)   \n",
        "# X_train, X_test, y_train, y_test= train_test_split( X, y, test_size = 0.25, random_state = 41)                                "
      ],
      "execution_count": 15,
      "outputs": []
    },
    {
      "cell_type": "code",
      "metadata": {
        "colab": {
          "base_uri": "https://localhost:8080/"
        },
        "id": "uv5wygPlV-Tc",
        "outputId": "0481e3ed-6b1a-4de6-f61e-01344a3d93e4"
      },
      "source": [
        "DTC=DecisionTreeClassifier(max_depth=3)\n",
        "# DTC=DecisionTreeClassifier(max_depth=4)\n",
        "DTC.fit(X_train,y_train) "
      ],
      "execution_count": 16,
      "outputs": [
        {
          "output_type": "execute_result",
          "data": {
            "text/plain": [
              "DecisionTreeClassifier(max_depth=3)"
            ]
          },
          "metadata": {},
          "execution_count": 16
        }
      ]
    },
    {
      "cell_type": "code",
      "metadata": {
        "colab": {
          "base_uri": "https://localhost:8080/"
        },
        "id": "E5ApxyhOW-D7",
        "outputId": "f3411354-caa0-4ee0-f252-1d5e8d0e8e3e"
      },
      "source": [
        "DTC.classes_"
      ],
      "execution_count": 17,
      "outputs": [
        {
          "output_type": "execute_result",
          "data": {
            "text/plain": [
              "array([0, 1, 2])"
            ]
          },
          "metadata": {},
          "execution_count": 17
        }
      ]
    },
    {
      "cell_type": "code",
      "metadata": {
        "id": "4gOewVxel7V7"
      },
      "source": [
        "y_pred=DTC.predict(X_test)\n"
      ],
      "execution_count": 18,
      "outputs": []
    },
    {
      "cell_type": "code",
      "metadata": {
        "id": "1xtI4s6MkrOv",
        "colab": {
          "base_uri": "https://localhost:8080/"
        },
        "outputId": "2b026e75-913c-4b13-ebc7-86442db34661"
      },
      "source": [
        "accuracy = accuracy_score(y_pred, y_test)\n",
        "accuracy\n"
      ],
      "execution_count": 19,
      "outputs": [
        {
          "output_type": "execute_result",
          "data": {
            "text/plain": [
              "0.9666666666666667"
            ]
          },
          "metadata": {},
          "execution_count": 19
        }
      ]
    },
    {
      "cell_type": "code",
      "metadata": {
        "colab": {
          "base_uri": "https://localhost:8080/"
        },
        "id": "Le8KwqlUnp9X",
        "outputId": "013c53f4-4d01-42b6-d22f-0b44c612d984"
      },
      "source": [
        "print(confusion_matrix(y_test, y_pred))"
      ],
      "execution_count": 20,
      "outputs": [
        {
          "output_type": "stream",
          "name": "stdout",
          "text": [
            "[[17  0  0]\n",
            " [ 0 19  1]\n",
            " [ 0  1 22]]\n"
          ]
        }
      ]
    }
  ]
}