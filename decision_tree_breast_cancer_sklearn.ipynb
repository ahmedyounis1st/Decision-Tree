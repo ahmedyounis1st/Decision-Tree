{
  "nbformat": 4,
  "nbformat_minor": 0,
  "metadata": {
    "colab": {
      "name": "Untitled15.ipynb",
      "provenance": []
    },
    "kernelspec": {
      "name": "python3",
      "display_name": "Python 3"
    },
    "language_info": {
      "name": "python"
    },
    "accelerator": "GPU"
  },
  "cells": [
    {
      "cell_type": "code",
      "execution_count": 1,
      "metadata": {
        "id": "Q1ohkNTurKX1"
      },
      "outputs": [],
      "source": [
        "from sklearn.datasets import load_breast_cancer\n",
        "from sklearn.tree import  DecisionTreeClassifier   \n",
        "from sklearn.metrics import accuracy_score ,confusion_matrix                                                       "
      ]
    },
    {
      "cell_type": "code",
      "source": [
        "data = load_breast_cancer()\n",
        "X = data.data\n",
        "y = data.target"
      ],
      "metadata": {
        "id": "FcyhGuMkrh_b"
      },
      "execution_count": 2,
      "outputs": []
    },
    {
      "cell_type": "code",
      "source": [
        "X.shape"
      ],
      "metadata": {
        "colab": {
          "base_uri": "https://localhost:8080/"
        },
        "id": "F-oiAOkcsk3Y",
        "outputId": "a73076ad-bd83-426d-c675-aa81bd8830e3"
      },
      "execution_count": 3,
      "outputs": [
        {
          "output_type": "execute_result",
          "data": {
            "text/plain": [
              "(569, 30)"
            ]
          },
          "metadata": {},
          "execution_count": 3
        }
      ]
    },
    {
      "cell_type": "code",
      "source": [
        "data.feature_names"
      ],
      "metadata": {
        "colab": {
          "base_uri": "https://localhost:8080/"
        },
        "id": "KLOKwrjOr101",
        "outputId": "32aacad9-fb15-48c8-d525-52b280b5b36c"
      },
      "execution_count": 4,
      "outputs": [
        {
          "output_type": "execute_result",
          "data": {
            "text/plain": [
              "array(['mean radius', 'mean texture', 'mean perimeter', 'mean area',\n",
              "       'mean smoothness', 'mean compactness', 'mean concavity',\n",
              "       'mean concave points', 'mean symmetry', 'mean fractal dimension',\n",
              "       'radius error', 'texture error', 'perimeter error', 'area error',\n",
              "       'smoothness error', 'compactness error', 'concavity error',\n",
              "       'concave points error', 'symmetry error',\n",
              "       'fractal dimension error', 'worst radius', 'worst texture',\n",
              "       'worst perimeter', 'worst area', 'worst smoothness',\n",
              "       'worst compactness', 'worst concavity', 'worst concave points',\n",
              "       'worst symmetry', 'worst fractal dimension'], dtype='<U23')"
            ]
          },
          "metadata": {},
          "execution_count": 4
        }
      ]
    },
    {
      "cell_type": "code",
      "source": [
        "data.target_names"
      ],
      "metadata": {
        "colab": {
          "base_uri": "https://localhost:8080/"
        },
        "id": "zY1Oy7vIr6UL",
        "outputId": "4d493c87-95ac-4f3a-d160-0fdfb793aaf2"
      },
      "execution_count": 5,
      "outputs": [
        {
          "output_type": "execute_result",
          "data": {
            "text/plain": [
              "array(['malignant', 'benign'], dtype='<U9')"
            ]
          },
          "metadata": {},
          "execution_count": 5
        }
      ]
    },
    {
      "cell_type": "code",
      "source": [
        "from sklearn.model_selection import train_test_split \n",
        "X_train, X_test, y_train, y_test= train_test_split(X, y,test_size=0.2, random_state =0)                       \n",
        " "
      ],
      "metadata": {
        "id": "aghT0YcEsGLQ"
      },
      "execution_count": 6,
      "outputs": []
    },
    {
      "cell_type": "code",
      "source": [
        "DTC=DecisionTreeClassifier(max_depth=3)\n",
        "DTC.fit(X_train,y_train) "
      ],
      "metadata": {
        "colab": {
          "base_uri": "https://localhost:8080/"
        },
        "id": "Olb0TrtqsJtP",
        "outputId": "48910acb-ae05-4a73-b769-dd00dfa6d007"
      },
      "execution_count": 7,
      "outputs": [
        {
          "output_type": "execute_result",
          "data": {
            "text/plain": [
              "DecisionTreeClassifier(max_depth=3)"
            ]
          },
          "metadata": {},
          "execution_count": 7
        }
      ]
    },
    {
      "cell_type": "code",
      "source": [
        "DTC.classes_"
      ],
      "metadata": {
        "colab": {
          "base_uri": "https://localhost:8080/"
        },
        "id": "VWhXcIoDsMvn",
        "outputId": "d473f100-00bf-4e12-812e-8711d119fa0f"
      },
      "execution_count": 8,
      "outputs": [
        {
          "output_type": "execute_result",
          "data": {
            "text/plain": [
              "array([0, 1])"
            ]
          },
          "metadata": {},
          "execution_count": 8
        }
      ]
    },
    {
      "cell_type": "code",
      "source": [
        "y_pred=DTC.predict(X_test)"
      ],
      "metadata": {
        "id": "nySig7BVsM3o"
      },
      "execution_count": 9,
      "outputs": []
    },
    {
      "cell_type": "code",
      "source": [
        "accuracy = accuracy_score(y_pred, y_test)*100\n",
        "accuracy.round(2)\n"
      ],
      "metadata": {
        "colab": {
          "base_uri": "https://localhost:8080/"
        },
        "id": "Tuk3kbWmsRWx",
        "outputId": "05f966ec-f6b0-4c1f-95c3-62a42c0002e0"
      },
      "execution_count": 10,
      "outputs": [
        {
          "output_type": "execute_result",
          "data": {
            "text/plain": [
              "96.49"
            ]
          },
          "metadata": {},
          "execution_count": 10
        }
      ]
    },
    {
      "cell_type": "code",
      "source": [
        "print(confusion_matrix(y_test, y_pred))"
      ],
      "metadata": {
        "colab": {
          "base_uri": "https://localhost:8080/"
        },
        "id": "D0dH7_NBvCV6",
        "outputId": "30f7117a-ae1d-448e-8928-cc86c8c80401"
      },
      "execution_count": 11,
      "outputs": [
        {
          "output_type": "stream",
          "name": "stdout",
          "text": [
            "[[44  3]\n",
            " [ 1 66]]\n"
          ]
        }
      ]
    },
    {
      "cell_type": "code",
      "source": [
        "max_score = 0\n",
        "paramters = []\n",
        "test_sizes = [0.2, 0.25, 0.3, 0.33, 0.4]\n",
        "for s in test_sizes:\n",
        "  for i in range(43):\n",
        "    X_train, X_test, y_train, y_test= train_test_split(\n",
        "        X, y, test_size = s, random_state = i)                       \n",
        "    for d in range(1,31):\n",
        "      DTC = DecisionTreeClassifier(max_depth = d)\n",
        "      DTC.fit(X_train, y_train) \n",
        "      y_pred = DTC.predict(X_test)\n",
        "      score = accuracy_score(y_pred, y_test)*100\n",
        "      if score > max_score:\n",
        "        max_score = score\n",
        "        paramters = [s, i, d]"
      ],
      "metadata": {
        "id": "RNjQYNoOtT3T"
      },
      "execution_count": 12,
      "outputs": []
    },
    {
      "cell_type": "code",
      "source": [
        "print('Highest accuarcy obtained: {}%'.format(max_score.round(2)))\n",
        "print('Using paramters test_size = {}, random_state = {}, max_depth = {}'.format(paramters[0], paramters[1], paramters[2]))"
      ],
      "metadata": {
        "colab": {
          "base_uri": "https://localhost:8080/"
        },
        "id": "jLoyJtyOsT56",
        "outputId": "93e396e3-cd9c-40fb-edf7-e47fda2ead88"
      },
      "execution_count": 13,
      "outputs": [
        {
          "output_type": "stream",
          "name": "stdout",
          "text": [
            "Highest accuarcy obtained: 98.6%\n",
            "Using paramters test_size = 0.25, random_state = 11, max_depth = 7\n"
          ]
        }
      ]
    },
    {
      "cell_type": "code",
      "source": [
        "X_train, X_test, y_train, y_test= train_test_split(\n",
        "    X, y, test_size = 0.25, random_state = 41)            "
      ],
      "metadata": {
        "id": "2Rzo01SBzDGs"
      },
      "execution_count": 14,
      "outputs": []
    },
    {
      "cell_type": "code",
      "source": [
        "DTC = DecisionTreeClassifier(max_depth = 4)\n",
        "DTC.fit(X_train, y_train) "
      ],
      "metadata": {
        "colab": {
          "base_uri": "https://localhost:8080/"
        },
        "id": "Gf6gkLQ6yL3X",
        "outputId": "6ef7e773-0e84-4624-f4eb-75e8851cbe2a"
      },
      "execution_count": 15,
      "outputs": [
        {
          "output_type": "execute_result",
          "data": {
            "text/plain": [
              "DecisionTreeClassifier(max_depth=4)"
            ]
          },
          "metadata": {},
          "execution_count": 15
        }
      ]
    },
    {
      "cell_type": "code",
      "source": [
        "print(f'Train set score: {(DTC.score(X_train, y_train)*100).round(2)}%')\n",
        "print(f'Test set score: {(DTC.score(X_test, y_test)*100).round(2)}%')"
      ],
      "metadata": {
        "colab": {
          "base_uri": "https://localhost:8080/"
        },
        "id": "J9n63pVJwH5W",
        "outputId": "181e9e14-2c1c-4b80-b8b9-41e37dc57d3b"
      },
      "execution_count": 16,
      "outputs": [
        {
          "output_type": "stream",
          "name": "stdout",
          "text": [
            "Train set score: 97.89%\n",
            "Test set score: 98.6%\n"
          ]
        }
      ]
    },
    {
      "cell_type": "code",
      "source": [
        "y_pred = DTC.predict(X_test)"
      ],
      "metadata": {
        "id": "wEIIZrRqzbGQ"
      },
      "execution_count": 17,
      "outputs": []
    },
    {
      "cell_type": "code",
      "source": [
        "accuracy = accuracy_score(y_pred, y_test)*100\n",
        "accuracy.round(2)"
      ],
      "metadata": {
        "colab": {
          "base_uri": "https://localhost:8080/"
        },
        "id": "PI3irmdIz7W_",
        "outputId": "c4f02791-d52a-4b7e-9788-3e52871b019c"
      },
      "execution_count": 18,
      "outputs": [
        {
          "output_type": "execute_result",
          "data": {
            "text/plain": [
              "98.6"
            ]
          },
          "metadata": {},
          "execution_count": 18
        }
      ]
    },
    {
      "cell_type": "code",
      "source": [
        "print(confusion_matrix(y_test, y_pred))"
      ],
      "metadata": {
        "colab": {
          "base_uri": "https://localhost:8080/"
        },
        "id": "1Zh5CW8Yz8vf",
        "outputId": "fe0a2440-de7d-4110-f9bd-f7a6acea08d6"
      },
      "execution_count": 19,
      "outputs": [
        {
          "output_type": "stream",
          "name": "stdout",
          "text": [
            "[[53  0]\n",
            " [ 2 88]]\n"
          ]
        }
      ]
    },
    {
      "cell_type": "code",
      "source": [
        "from sklearn.metrics import classification_report\n",
        "print(classification_report(y_test, y_pred))"
      ],
      "metadata": {
        "colab": {
          "base_uri": "https://localhost:8080/"
        },
        "id": "hWn0nqrm0PHO",
        "outputId": "90d40336-5cef-4524-bcc1-b216d1131ac9"
      },
      "execution_count": 20,
      "outputs": [
        {
          "output_type": "stream",
          "name": "stdout",
          "text": [
            "              precision    recall  f1-score   support\n",
            "\n",
            "           0       0.96      1.00      0.98        53\n",
            "           1       1.00      0.98      0.99        90\n",
            "\n",
            "    accuracy                           0.99       143\n",
            "   macro avg       0.98      0.99      0.99       143\n",
            "weighted avg       0.99      0.99      0.99       143\n",
            "\n"
          ]
        }
      ]
    },
    {
      "cell_type": "code",
      "source": [
        ""
      ],
      "metadata": {
        "id": "2YIf1H6P5RGo"
      },
      "execution_count": 20,
      "outputs": []
    }
  ]
}